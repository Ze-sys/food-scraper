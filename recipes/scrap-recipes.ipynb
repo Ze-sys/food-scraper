{
 "cells": [
  {
   "cell_type": "code",
   "execution_count": null,
   "source": [
    "from selenium import webdriver\n",
    "import time\n",
    "import itertools\n",
    "from selenium.webdriver import Chrome\n",
    "from selenium.webdriver.chrome.options import Options\n",
    "from selenium.webdriver.common.keys import Keys\n",
    "from selenium.webdriver.common.by import By\n",
    "from selenium.webdriver.support.ui import WebDriverWait\n",
    "from selenium.webdriver.support import expected_conditions as EC\n",
    "from selenium.webdriver.common.action_chains import ActionChains\n",
    "from selenium.common.exceptions import ElementClickInterceptedException\n",
    "from selenium.common.exceptions import StaleElementReferenceException\n",
    "from selenium.webdriver.support.ui import Select"
   ],
   "outputs": [],
   "metadata": {}
  },
  {
   "cell_type": "code",
   "execution_count": null,
   "source": [
    "# ! pkill -f \"(chrome)?(--headless)\"\n",
    "url = \"https://www.allrecipes.com/recipes/14485/healthy-recipes/main-dishes/chicken/?page=2\"\n",
    "opts = Options()\n",
    "opts.add_argument(\"--incognito\")\n",
    "opts.add_argument(\"--disable-popup-blocking\")\n",
    "opts.headless =True\n",
    "driver = Chrome(options=opts)\n",
    "driver.get(url)\n"
   ],
   "outputs": [],
   "metadata": {}
  },
  {
   "cell_type": "markdown",
   "source": [
    "# Checken scraping"
   ],
   "metadata": {}
  },
  {
   "cell_type": "code",
   "execution_count": null,
   "source": [
    "all_links = []\n",
    "def url_grabber(driver):\n",
    "    while True:\n",
    "        if 'page=2' in driver.current_url:\n",
    "            try:\n",
    "                linklist = driver.find_elements_by_xpath(\"/html/body/main/div[2]/div/div[*]/div[2]/div/a\")\n",
    "                links = [s.get_attribute('href') for s in linklist] \n",
    "                next_page = driver.find_element_by_xpath(\"/html/body/main/div[2]/div/div[29]/a[2]\")\n",
    "                next_page.click()\n",
    "            except ElementClickInterceptedException:\n",
    "                popup = driver.find_element_by_xpath(\"/html/body/div[12]/div/div[2]/div[2]/button[1]\")\n",
    "                popup.click()\n",
    "                linklist = driver.find_elements_by_xpath(\"/html/body/main/div[2]/div/div[*]/div[2]/div/a\")\n",
    "                links = [s.get_attribute('href') for s in linklist] \n",
    "                next_page = driver.find_element_by_xpath(\"/html/body/main/div[2]/div/div[29]/a[2]\")\n",
    "                next_page.click()\n",
    "            all_links.append(links)\n",
    "\n",
    "                    \n",
    "        else:\n",
    "\n",
    "            driver.implicitly_wait(45)\n",
    "            linklist = driver.find_elements_by_xpath(\"/html/body/main/div[2]/div/div[*]/div[2]/div/a\")\n",
    "            links = [s.get_attribute('href') for s in linklist]\n",
    "            all_links.append(links)\n",
    "            \n",
    "            if len(driver.find_elements_by_xpath(\"/html/body/main/div[2]/div/div[29]/a[*]\"))==2: # 2 buttons(prev,next)\n",
    "                next_page = driver.find_element_by_xpath(\"/html/body/main/div[2]/div/div[29]/a[2]\")\n",
    "                next_page.click()\n",
    "            else:\n",
    "                driver.quit()\n",
    "                break\n",
    "\n",
    "         \n",
    "        \n",
    "    return all_links"
   ],
   "outputs": [],
   "metadata": {}
  },
  {
   "cell_type": "code",
   "execution_count": null,
   "source": [
    "result = url_grabber(driver)\n",
    "df = pd.DataFrame(result).T\n",
    "names = [f'page-{i}' for i in range(2,13)]\n",
    "df.columns = names\n",
    "df.to_csv('chicken_urls.csv', index=False, header=True)\n",
    "df"
   ],
   "outputs": [],
   "metadata": {}
  },
  {
   "cell_type": "markdown",
   "source": [
    "# Desserts scraping"
   ],
   "metadata": {}
  },
  {
   "cell_type": "code",
   "execution_count": 2,
   "source": [
    "from selenium import webdriver\n",
    "import pandas as pd\n",
    "from selenium.webdriver import Chrome\n",
    "from selenium.webdriver.chrome.options import Options\n",
    "from selenium.webdriver.common.keys import Keys\n",
    "from selenium.webdriver.common.by import By\n",
    "from selenium.webdriver.support.ui import WebDriverWait\n",
    "from selenium.webdriver.support import expected_conditions as EC\n",
    "from selenium.webdriver.common.action_chains import ActionChains\n",
    "from selenium.common.exceptions import ElementClickInterceptedException\n",
    "from selenium.common.exceptions import StaleElementReferenceException\n",
    "from selenium.webdriver.support.ui import Select\n",
    "\n",
    "# url = \"https://www.allrecipes.com/recipes/14485/healthy-recipes/main-dishes/chicken/?page=2\"\n",
    "url = \"https://www.allrecipes.com/recipes/16375/healthy-recipes/desserts/?page=2\"\n",
    "! pkill -f \"(chrome)?(--headless)\"\n",
    "opts = Options()\n",
    "opts.add_argument(\"--incognito\")\n",
    "opts.add_argument(\"--disable-popup-blocking\")\n",
    "opts.headless =True\n",
    "driver = Chrome(options=opts)\n",
    "driver.get(url)\n",
    "\n",
    "all_links = []\n",
    "def url_grabber(driver):\n",
    "    while True:\n",
    "        if 'page=2' in driver.current_url:\n",
    "            try:\n",
    "                linklist = driver.find_elements_by_xpath(\"/html/body/main/div[2]/div/div[*]/div[2]/div/a\")\n",
    "                links = [s.get_attribute('href') for s in linklist] \n",
    "                next_page = driver.find_element_by_xpath(\"/html/body/main/div[2]/div/div[29]/a[2]\")\n",
    "                next_page.click()\n",
    "            except ElementClickInterceptedException:\n",
    "                popup = driver.find_element_by_xpath(\"/html/body/div[12]/div/div[2]/div[2]/button[1]\")\n",
    "                popup.click()\n",
    "                linklist = driver.find_elements_by_xpath(\"/html/body/main/div[2]/div/div[*]/div[2]/div/a\")\n",
    "                links = [s.get_attribute('href') for s in linklist] \n",
    "                next_page = driver.find_element_by_xpath(\"/html/body/main/div[2]/div/div[29]/a[2]\")\n",
    "                next_page.click()\n",
    "            all_links.append(links)\n",
    "\n",
    "                    \n",
    "        else:\n",
    "            driver.implicitly_wait(45)\n",
    "            linklist = driver.find_elements_by_xpath(\"/html/body/main/div[2]/div/div[*]/div[2]/div/a\")\n",
    "            links = [s.get_attribute('href') for s in linklist]\n",
    "            all_links.append(links)\n",
    "            if len(driver.find_elements_by_xpath(\"/html/body/main/div[2]/div/div[29]/a[*]\"))==2: # 2 buttons(prev,next)\n",
    "                next_page = driver.find_element_by_xpath(\"/html/body/main/div[2]/div/div[29]/a[2]\")\n",
    "                next_page.click()\n",
    "            else:\n",
    "                driver.quit()\n",
    "                break\n",
    "\n",
    "         \n",
    "        \n",
    "    return  all_links"
   ],
   "outputs": [],
   "metadata": {}
  },
  {
   "cell_type": "code",
   "execution_count": 3,
   "source": [
    "result = url_grabber(driver)"
   ],
   "outputs": [],
   "metadata": {}
  },
  {
   "cell_type": "code",
   "execution_count": 9,
   "source": [
    "df = pd.DataFrame(result).T\n",
    "names = [f'page-{i}' for i in range(2,len(result)+2)]\n",
    "df.columns = names\n",
    "# df.to_csv('chicken_urls.csv', index=False, header=True)\n",
    "df.to_csv('/home/zelalem/my_repos/mygithubrepos/vacation-projects/recipes/dessert_urls.csv', index=False, header=True)"
   ],
   "outputs": [],
   "metadata": {}
  }
 ],
 "metadata": {
  "kernelspec": {
   "display_name": "Python 3",
   "language": "python",
   "name": "python3"
  },
  "language_info": {
   "codemirror_mode": {
    "name": "ipython",
    "version": 3
   },
   "file_extension": ".py",
   "mimetype": "text/x-python",
   "name": "python",
   "nbconvert_exporter": "python",
   "pygments_lexer": "ipython3",
   "version": "3.8.10"
  }
 },
 "nbformat": 4,
 "nbformat_minor": 5
}